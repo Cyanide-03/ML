{
 "cells": [
  {
   "cell_type": "code",
   "execution_count": 1,
   "id": "2ab6ff3a",
   "metadata": {},
   "outputs": [],
   "source": [
    "import numpy as np"
   ]
  },
  {
   "cell_type": "code",
   "execution_count": 2,
   "id": "c0088227",
   "metadata": {},
   "outputs": [],
   "source": [
    "# Example dataset\n",
    "X_train = np.array([[1, 1], [1, 0], [0, 1], [0, 0]])\n",
    "y_train = np.array([1,1, 0, 0])"
   ]
  },
  {
   "cell_type": "code",
   "execution_count": 14,
   "id": "e88b3952",
   "metadata": {},
   "outputs": [
    {
     "data": {
      "text/plain": [
       "array([2, 2], dtype=int64)"
      ]
     },
     "execution_count": 14,
     "metadata": {},
     "output_type": "execute_result"
    }
   ],
   "source": [
    "classes,counts=np.unique(y_train,return_counts=True)\n",
    "counts"
   ]
  },
  {
   "cell_type": "code",
   "execution_count": 22,
   "id": "604ac706",
   "metadata": {},
   "outputs": [
    {
     "name": "stdout",
     "output_type": "stream",
     "text": [
      "{0: 0.5, 1: 0.5}\n"
     ]
    }
   ],
   "source": [
    "def calculate_prior(y):\n",
    "    classes,counts=np.unique(y,return_counts=True)\n",
    "    prior=counts/len(y)\n",
    "    return dict(zip(classes,prior))\n",
    "\n",
    "prior=calculate_prior(y_train)\n",
    "print(prior)"
   ]
  },
  {
   "cell_type": "code",
   "execution_count": 26,
   "id": "de54478d",
   "metadata": {},
   "outputs": [
    {
     "name": "stdout",
     "output_type": "stream",
     "text": [
      "{0: {0: {0: 1.0}, 1: {0: 0.5, 1: 0.5}}, 1: {0: {1: 1.0}, 1: {0: 0.5, 1: 0.5}}}\n"
     ]
    },
    {
     "data": {
      "text/plain": [
       "0.5"
      ]
     },
     "execution_count": 26,
     "metadata": {},
     "output_type": "execute_result"
    }
   ],
   "source": [
    "def feature_probs(X,y):\n",
    "    classes,counts=np.unique(y,return_counts=True)\n",
    "    probs={}\n",
    "    for c in classes:\n",
    "        rows=X[y==c]\n",
    "        cls_probs={}\n",
    "        for xi in range(X.shape[1]):\n",
    "            types,counts=np.unique(rows[:,xi],return_counts=True)\n",
    "            value_probs=counts/len(rows)\n",
    "            cls_probs[xi]=dict(zip(types,value_probs))\n",
    "            probs[c]=cls_probs\n",
    "    return probs\n",
    "\n",
    "probs=feature_probs(X_train,y_train)\n",
    "print(probs)\n",
    "probs[1][1][1]"
   ]
  },
  {
   "cell_type": "code",
   "execution_count": 47,
   "id": "6b12b6a5",
   "metadata": {},
   "outputs": [
    {
     "name": "stdout",
     "output_type": "stream",
     "text": [
      "Predictions: 1\n"
     ]
    }
   ],
   "source": [
    "def predict(X,prior=prior,probs=probs):\n",
    "    prediction=0\n",
    "    best_class=None\n",
    "    for c in classes:\n",
    "        class_prob=prior[c]\n",
    "        for idx,feature in enumerate(X):\n",
    "            if feature in probs[c][idx]:\n",
    "                class_prob*=probs[c][idx][feature]\n",
    "            else:\n",
    "                class_prob*=0\n",
    "        if class_prob>prediction:\n",
    "            prediction=class_prob\n",
    "            best_class=c\n",
    "#         prediction=max(class_prob,prediction)\n",
    "    return best_class\n",
    "\n",
    "X_test=[1,0]\n",
    "predictions = predict(X_test)\n",
    "print(\"Predictions:\", predictions)\n"
   ]
  }
 ],
 "metadata": {
  "kernelspec": {
   "display_name": "Python 3 (ipykernel)",
   "language": "python",
   "name": "python3"
  },
  "language_info": {
   "codemirror_mode": {
    "name": "ipython",
    "version": 3
   },
   "file_extension": ".py",
   "mimetype": "text/x-python",
   "name": "python",
   "nbconvert_exporter": "python",
   "pygments_lexer": "ipython3",
   "version": "3.10.9"
  }
 },
 "nbformat": 4,
 "nbformat_minor": 5
}
